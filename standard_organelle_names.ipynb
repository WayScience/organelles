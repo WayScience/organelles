{
 "cells": [
  {
   "cell_type": "markdown",
   "id": "a54de35a-0caf-49ea-8573-47e1781eaef7",
   "metadata": {},
   "source": [
    "# Define standardized organelle terms\n",
    "\n",
    "Pulled from Gene Ontology (GO), the terms represent a standardized vocabulary for known organelles.\n",
    "\n",
    "The terms exist in the overall parent: `cellular_compartment` -> `cellular_anatomical_entity` -> `organelle`\n",
    "\n",
    "And within only a subset of the following child terms representing intracellular and extracellular membrane and non-membrane bound organelles:\n",
    "\n",
    "| go_term    | go_id                                        | go_last_parent          |\n",
    "|-----------:| :--------------------------------------------|:------------------------|\n",
    "| GO:0043231 | intracellular membrane-bounded organelle     | intracellular organelle |\n",
    "| GO:0065010 | extracellular membrane-bounded organelle     | extracellular organelle |\n",
    "| GO:0043232 | intracellular non-membrane-bounded organelle | intracellular organelle |\n",
    "| GO:0043264 | extracellular non-membrane-bounded organelle | extracellular organelle |"
   ]
  },
  {
   "cell_type": "code",
   "execution_count": 1,
   "id": "de38c21b-abd1-4296-96cc-bdaaaa88b14f",
   "metadata": {},
   "outputs": [],
   "source": [
    "import pathlib\n",
    "import pandas as pd\n",
    "from pronto import Ontology"
   ]
  },
  {
   "cell_type": "code",
   "execution_count": 2,
   "id": "1ed98051-3c0e-44b1-b4a8-b87cb78e51e4",
   "metadata": {},
   "outputs": [],
   "source": [
    "output_file = \"organelles.tsv\""
   ]
  },
  {
   "cell_type": "code",
   "execution_count": 3,
   "id": "50748486-d922-4e22-aa44-a1a2bf1da235",
   "metadata": {},
   "outputs": [],
   "source": [
    "# Download Gene Ontology\n",
    "# https://www.ebi.ac.uk/ols/ontologies/go\n",
    "go_owl = str(pathlib.Path(\"data/go.owl\"))\n",
    "\n",
    "go = Ontology(go_owl)"
   ]
  },
  {
   "cell_type": "code",
   "execution_count": 4,
   "id": "7692b3d5-460d-44f8-bbee-5260c1839336",
   "metadata": {},
   "outputs": [],
   "source": [
    "# Define the \"organelle\" GO term\n",
    "organelle = \"GO:0043226\"\n",
    "organell_go_term = go[organelle]"
   ]
  },
  {
   "cell_type": "code",
   "execution_count": 5,
   "id": "549bda1a-4697-46d3-96fc-d817ce707462",
   "metadata": {},
   "outputs": [
    {
     "name": "stdout",
     "output_type": "stream",
     "text": [
      "(395, 3)\n"
     ]
    },
    {
     "data": {
      "text/html": [
       "<div>\n",
       "<style scoped>\n",
       "    .dataframe tbody tr th:only-of-type {\n",
       "        vertical-align: middle;\n",
       "    }\n",
       "\n",
       "    .dataframe tbody tr th {\n",
       "        vertical-align: top;\n",
       "    }\n",
       "\n",
       "    .dataframe thead th {\n",
       "        text-align: right;\n",
       "    }\n",
       "</style>\n",
       "<table border=\"1\" class=\"dataframe\">\n",
       "  <thead>\n",
       "    <tr style=\"text-align: right;\">\n",
       "      <th></th>\n",
       "      <th>go_term</th>\n",
       "      <th>go_id</th>\n",
       "      <th>go_last_parent</th>\n",
       "    </tr>\n",
       "  </thead>\n",
       "  <tbody>\n",
       "    <tr>\n",
       "      <th>0</th>\n",
       "      <td>GO:0043227</td>\n",
       "      <td>membrane-bounded organelle</td>\n",
       "      <td>organelle</td>\n",
       "    </tr>\n",
       "    <tr>\n",
       "      <th>1</th>\n",
       "      <td>GO:0043228</td>\n",
       "      <td>non-membrane-bounded organelle</td>\n",
       "      <td>organelle</td>\n",
       "    </tr>\n",
       "    <tr>\n",
       "      <th>2</th>\n",
       "      <td>GO:0043229</td>\n",
       "      <td>intracellular organelle</td>\n",
       "      <td>organelle</td>\n",
       "    </tr>\n",
       "  </tbody>\n",
       "</table>\n",
       "</div>"
      ],
      "text/plain": [
       "      go_term                           go_id go_last_parent\n",
       "0  GO:0043227      membrane-bounded organelle      organelle\n",
       "1  GO:0043228  non-membrane-bounded organelle      organelle\n",
       "2  GO:0043229         intracellular organelle      organelle"
      ]
     },
     "execution_count": 5,
     "metadata": {},
     "output_type": "execute_result"
    }
   ],
   "source": [
    "build_info = {}\n",
    "for term in organell_go_term.rchildren():\n",
    "    build_info[term.id] = [term.name, term.parents[-1].name]\n",
    "    \n",
    "organelle_df = pd.DataFrame(build_info).transpose().reset_index()\n",
    "organelle_df.columns = [\"go_term\", \"go_id\", \"go_last_parent\"]\n",
    "\n",
    "print(organelle_df.shape)\n",
    "organelle_df.head(3)"
   ]
  },
  {
   "cell_type": "code",
   "execution_count": 6,
   "id": "efa131bb-f9ae-4426-8d86-3488c595de82",
   "metadata": {},
   "outputs": [
    {
     "data": {
      "text/html": [
       "<div>\n",
       "<style scoped>\n",
       "    .dataframe tbody tr th:only-of-type {\n",
       "        vertical-align: middle;\n",
       "    }\n",
       "\n",
       "    .dataframe tbody tr th {\n",
       "        vertical-align: top;\n",
       "    }\n",
       "\n",
       "    .dataframe thead th {\n",
       "        text-align: right;\n",
       "    }\n",
       "</style>\n",
       "<table border=\"1\" class=\"dataframe\">\n",
       "  <thead>\n",
       "    <tr style=\"text-align: right;\">\n",
       "      <th></th>\n",
       "      <th>go_term</th>\n",
       "      <th>go_id</th>\n",
       "      <th>go_last_parent</th>\n",
       "    </tr>\n",
       "  </thead>\n",
       "  <tbody>\n",
       "    <tr>\n",
       "      <th>0</th>\n",
       "      <td>GO:0043231</td>\n",
       "      <td>intracellular membrane-bounded organelle</td>\n",
       "      <td>intracellular organelle</td>\n",
       "    </tr>\n",
       "    <tr>\n",
       "      <th>1</th>\n",
       "      <td>GO:0065010</td>\n",
       "      <td>extracellular membrane-bounded organelle</td>\n",
       "      <td>extracellular organelle</td>\n",
       "    </tr>\n",
       "    <tr>\n",
       "      <th>2</th>\n",
       "      <td>GO:0043232</td>\n",
       "      <td>intracellular non-membrane-bounded organelle</td>\n",
       "      <td>intracellular organelle</td>\n",
       "    </tr>\n",
       "    <tr>\n",
       "      <th>3</th>\n",
       "      <td>GO:0043264</td>\n",
       "      <td>extracellular non-membrane-bounded organelle</td>\n",
       "      <td>extracellular organelle</td>\n",
       "    </tr>\n",
       "  </tbody>\n",
       "</table>\n",
       "</div>"
      ],
      "text/plain": [
       "      go_term                                         go_id  \\\n",
       "0  GO:0043231      intracellular membrane-bounded organelle   \n",
       "1  GO:0065010      extracellular membrane-bounded organelle   \n",
       "2  GO:0043232  intracellular non-membrane-bounded organelle   \n",
       "3  GO:0043264  extracellular non-membrane-bounded organelle   \n",
       "\n",
       "            go_last_parent  \n",
       "0  intracellular organelle  \n",
       "1  extracellular organelle  \n",
       "2  intracellular organelle  \n",
       "3  extracellular organelle  "
      ]
     },
     "execution_count": 6,
     "metadata": {},
     "output_type": "execute_result"
    }
   ],
   "source": [
    "# Extract extracellular and intracellular organelles\n",
    "levels = [\"extracellular organelle\", \"intracellular organelle\"]\n",
    "go_parents_df = organelle_df.query(\"go_last_parent in @levels\").reset_index(drop=True)\n",
    "go_parents_df"
   ]
  },
  {
   "cell_type": "code",
   "execution_count": 7,
   "id": "f1a82721-ed81-44a9-b861-d81dcc7aa7ef",
   "metadata": {},
   "outputs": [],
   "source": [
    "# Pull all child terms from the intra- and extracellular membrane and non-membrane bounded organelles\n",
    "all_organelle_info = {}\n",
    "for term in go_parents_df.go_term.to_list():\n",
    "    suborganelle_term = go[term]\n",
    "    for sub_term in suborganelle_term.rchildren():\n",
    "        all_organelle_info[sub_term.id] = [sub_term.name, suborganelle_term.name, suborganelle_term.id]"
   ]
  },
  {
   "cell_type": "code",
   "execution_count": 8,
   "id": "0310f739-250d-45b1-882d-08f62b7768e5",
   "metadata": {},
   "outputs": [
    {
     "name": "stdout",
     "output_type": "stream",
     "text": [
      "(357, 4)\n"
     ]
    },
    {
     "data": {
      "text/html": [
       "<div>\n",
       "<style scoped>\n",
       "    .dataframe tbody tr th:only-of-type {\n",
       "        vertical-align: middle;\n",
       "    }\n",
       "\n",
       "    .dataframe tbody tr th {\n",
       "        vertical-align: top;\n",
       "    }\n",
       "\n",
       "    .dataframe thead th {\n",
       "        text-align: right;\n",
       "    }\n",
       "</style>\n",
       "<table border=\"1\" class=\"dataframe\">\n",
       "  <thead>\n",
       "    <tr style=\"text-align: right;\">\n",
       "      <th></th>\n",
       "      <th>go_term</th>\n",
       "      <th>go_organelle</th>\n",
       "      <th>go_membrane_term</th>\n",
       "      <th>go_membrane_id</th>\n",
       "    </tr>\n",
       "  </thead>\n",
       "  <tbody>\n",
       "    <tr>\n",
       "      <th>0</th>\n",
       "      <td>GO:0020022</td>\n",
       "      <td>acidocalcisome</td>\n",
       "      <td>intracellular membrane-bounded organelle</td>\n",
       "      <td>GO:0043231</td>\n",
       "    </tr>\n",
       "    <tr>\n",
       "      <th>1</th>\n",
       "      <td>GO:0001669</td>\n",
       "      <td>acrosomal vesicle</td>\n",
       "      <td>intracellular membrane-bounded organelle</td>\n",
       "      <td>GO:0043231</td>\n",
       "    </tr>\n",
       "    <tr>\n",
       "      <th>2</th>\n",
       "      <td>GO:0015629</td>\n",
       "      <td>actin cytoskeleton</td>\n",
       "      <td>intracellular non-membrane-bounded organelle</td>\n",
       "      <td>GO:0043232</td>\n",
       "    </tr>\n",
       "  </tbody>\n",
       "</table>\n",
       "</div>"
      ],
      "text/plain": [
       "      go_term        go_organelle  \\\n",
       "0  GO:0020022      acidocalcisome   \n",
       "1  GO:0001669   acrosomal vesicle   \n",
       "2  GO:0015629  actin cytoskeleton   \n",
       "\n",
       "                               go_membrane_term go_membrane_id  \n",
       "0      intracellular membrane-bounded organelle     GO:0043231  \n",
       "1      intracellular membrane-bounded organelle     GO:0043231  \n",
       "2  intracellular non-membrane-bounded organelle     GO:0043232  "
      ]
     },
     "execution_count": 8,
     "metadata": {},
     "output_type": "execute_result"
    }
   ],
   "source": [
    "# Save the organelle data to disk\n",
    "suborganelle_df = pd.DataFrame(all_organelle_info).transpose().reset_index()\n",
    "suborganelle_df.columns = [\"go_term\", \"go_organelle\", \"go_membrane_term\", \"go_membrane_id\"]\n",
    "\n",
    "suborganelle_df = (\n",
    "    suborganelle_df\n",
    "    .sort_values(by=\"go_organelle\", key=lambda col: col.str.lower())\n",
    "    .reset_index(drop=True)\n",
    ")\n",
    "\n",
    "suborganelle_df.to_csv(output_file, sep=\"\\t\", index=False)\n",
    "\n",
    "print(suborganelle_df.shape)\n",
    "suborganelle_df.head(3)"
   ]
  }
 ],
 "metadata": {
  "kernelspec": {
   "display_name": "Python 3 (ipykernel)",
   "language": "python",
   "name": "python3"
  },
  "language_info": {
   "codemirror_mode": {
    "name": "ipython",
    "version": 3
   },
   "file_extension": ".py",
   "mimetype": "text/x-python",
   "name": "python",
   "nbconvert_exporter": "python",
   "pygments_lexer": "ipython3",
   "version": "3.9.7"
  }
 },
 "nbformat": 4,
 "nbformat_minor": 5
}
